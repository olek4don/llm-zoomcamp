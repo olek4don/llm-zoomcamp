{
 "cells": [
  {
   "cell_type": "code",
   "execution_count": 38,
   "id": "9552aa96-dfe2-4e11-9c5a-1b6d5e26b519",
   "metadata": {},
   "outputs": [],
   "source": [
    "import openai\n",
    "from openai import OpenAI\n",
    "from dotenv import load_dotenv\n",
    "import os"
   ]
  },
  {
   "cell_type": "code",
   "execution_count": 39,
   "id": "4f865cda-b34f-4022-9a22-fdf8d357af7a",
   "metadata": {
    "scrolled": true
   },
   "outputs": [],
   "source": [
    "load_dotenv()\n",
    "client = OpenAI(api_key=os.environ.get('OPENAI_API_KEY'))"
   ]
  },
  {
   "cell_type": "code",
   "execution_count": 40,
   "id": "a9faccc9",
   "metadata": {},
   "outputs": [],
   "source": [
    "import minsearch\n",
    "import json\n",
    "import textwrap\n",
    "\n",
    "# wrapped_text = textwrap.fill(documents[0][\"text\"], width=80)"
   ]
  },
  {
   "cell_type": "code",
   "execution_count": 41,
   "id": "89aed0f7",
   "metadata": {},
   "outputs": [],
   "source": [
    "with open('documents.json', 'rt') as f_in:\n",
    "    docs_raw = json.load(f_in)"
   ]
  },
  {
   "cell_type": "code",
   "execution_count": 42,
   "id": "d500db0f",
   "metadata": {},
   "outputs": [],
   "source": [
    "documents = []\n",
    "\n",
    "for course_dict in docs_raw:\n",
    "    for doc in course_dict['documents']:\n",
    "        doc['course'] = course_dict['course']\n",
    "        documents.append(doc)"
   ]
  },
  {
   "cell_type": "code",
   "execution_count": 43,
   "id": "ffb6c71b",
   "metadata": {},
   "outputs": [
    {
     "data": {
      "text/plain": [
       "{'text': \"The purpose of this document is to capture frequently asked technical questions\\nThe exact day and hour of the course will be 15th Jan 2024 at 17h00. The course will start with the first  “Office Hours'' live.1\\nSubscribe to course public Google Calendar (it works from Desktop only).\\nRegister before the course starts using this link.\\nJoin the course Telegram channel with announcements.\\nDon’t forget to register in DataTalks.Club's Slack and join the channel.\",\n",
       " 'section': 'General course-related questions',\n",
       " 'question': 'Course - When will the course start?',\n",
       " 'course': 'data-engineering-zoomcamp'}"
      ]
     },
     "execution_count": 43,
     "metadata": {},
     "output_type": "execute_result"
    }
   ],
   "source": [
    "documents[0]"
   ]
  },
  {
   "cell_type": "code",
   "execution_count": 44,
   "id": "df963bc8",
   "metadata": {},
   "outputs": [],
   "source": [
    "index = minsearch.Index(\n",
    "    text_fields=['question', 'text', 'section'],\n",
    "    keyword_fields=['course'], \n",
    ")"
   ]
  },
  {
   "cell_type": "markdown",
   "id": "25fac928",
   "metadata": {},
   "source": [
    "import textwrap\n",
    "wrapped_texct = textwrap.fill(documents[0]['text'], width=80)\n",
    "print(wrapped_texct)"
   ]
  },
  {
   "cell_type": "code",
   "execution_count": 46,
   "id": "d8c2a312",
   "metadata": {},
   "outputs": [
    {
     "data": {
      "text/plain": [
       "<minsearch.Index at 0x7191ca5edb40>"
      ]
     },
     "execution_count": 46,
     "metadata": {},
     "output_type": "execute_result"
    }
   ],
   "source": [
    "index.fit(documents)"
   ]
  },
  {
   "cell_type": "code",
   "execution_count": 56,
   "id": "a96fd8e8",
   "metadata": {},
   "outputs": [],
   "source": [
    "def search(query):\n",
    "    boost = {\"question\": 3.0, \"section\": 0.5}\n",
    "\n",
    "    results = index.search(\n",
    "        query=query,\n",
    "        filter_dict={\"course\": \"data-engineering-zoomcamp\"},\n",
    "        boost_dict=boost,\n",
    "        num_results=5,\n",
    "    )\n",
    "\n",
    "    return results\n"
   ]
  },
  {
   "cell_type": "code",
   "execution_count": 57,
   "id": "ffac6585",
   "metadata": {},
   "outputs": [],
   "source": [
    "def build_prompt(query, search_results):\n",
    "    prompt_template = \"\"\"\n",
    "    You're a course teaching assistant. Answer the QUESTION based on the CONTEXT from the FAQ database.\n",
    "    Use only the facts from the CONTEXT when answering the QUESTION.\n",
    "    \n",
    "    QUESTION: {question}\n",
    "    \n",
    "    CONTEXT: \n",
    "    {context}\n",
    "    \"\"\"\n",
    "    context = \"\"\n",
    "\n",
    "    for doc in search_results:\n",
    "        context = (\n",
    "            context\n",
    "            + f\"section: {doc['section']}\\nquestion: {doc['question']}\\nanswer: {doc['text']}\\n\\n\"\n",
    "        )\n",
    "\n",
    "    prompt = prompt_template.format(question=query, context=context).strip()\n",
    "    return prompt"
   ]
  },
  {
   "cell_type": "code",
   "execution_count": 58,
   "id": "962a1268",
   "metadata": {},
   "outputs": [],
   "source": [
    "def llm(prompt):\n",
    "    response = client.chat.completions.create(\n",
    "        model=\"gpt-4o\",\n",
    "        messages=[{\"role\": \"user\", \"content\": prompt}],\n",
    "    )\n",
    "\n",
    "    response.choices[0].message.content\n",
    "    return response.choices[0].message.content"
   ]
  },
  {
   "cell_type": "code",
   "execution_count": 59,
   "id": "7af9b89e",
   "metadata": {},
   "outputs": [
    {
     "name": "stdout",
     "output_type": "stream",
     "text": [
      "To run Kafka, you can follow the instructions based on your specific use case. Here are the steps for different scenarios:\n",
      "\n",
      "1. **Java Kafka (Producer/Consumer/KStreams):**\n",
      "   - Navigate to your project directory.\n",
      "   - Run the following command in the terminal:\n",
      "     ```bash\n",
      "     java -cp build/libs/<jar_name>-1.0-SNAPSHOT.jar:out src/main/java/org/example/JsonProducer.java\n",
      "     ```\n",
      "\n",
      "2. **Python Kafka (when module “kafka” is not found):**\n",
      "   - Create a virtual environment and install the required packages using the following commands:\n",
      "     ```bash\n",
      "     python -m venv env\n",
      "     source env/bin/activate  # On MacOS/Linux\n",
      "     # On Windows use: env\\Scripts\\activate\n",
      "     pip install -r ../requirements.txt\n",
      "     ```\n",
      "   - To activate the virtual environment (each time before running your Python files):\n",
      "     ```bash\n",
      "     source env/bin/activate  # On MacOS/Linux\n",
      "     # On Windows use: env\\Scripts\\activate\n",
      "     ```\n",
      "   - To deactivate it:\n",
      "     ```bash\n",
      "     deactivate\n",
      "     ```\n",
      "\n",
      "3. **Fixing \"Permission Denied\" Error for `build.sh`:**\n",
      "   - Run the following command in terminal within the same directory (/docker/spark):\n",
      "     ```bash\n",
      "     chmod +x build.sh\n",
      "     ```\n",
      "\n",
      "These instructions should help you get Kafka up and running based on your needs.\n"
     ]
    }
   ],
   "source": [
    "def rag(query):\n",
    "    search_results = search(query)\n",
    "    prompt = build_prompt(query, search_results)\n",
    "    response = llm(prompt)\n",
    "    print(response)\n",
    "    return response\n",
    "\n",
    "query = \"how do I run kafka?\""
   ]
  }
 ],
 "metadata": {
  "kernelspec": {
   "display_name": "Python 3 (ipykernel)",
   "language": "python",
   "name": "python3"
  },
  "language_info": {
   "codemirror_mode": {
    "name": "ipython",
    "version": 3
   },
   "file_extension": ".py",
   "mimetype": "text/x-python",
   "name": "python",
   "nbconvert_exporter": "python",
   "pygments_lexer": "ipython3",
   "version": "3.10.13"
  }
 },
 "nbformat": 4,
 "nbformat_minor": 5
}
