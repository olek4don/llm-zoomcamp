{
 "cells": [
  {
   "cell_type": "code",
   "execution_count": 1,
   "id": "9552aa96-dfe2-4e11-9c5a-1b6d5e26b519",
   "metadata": {},
   "outputs": [],
   "source": [
    "import openai\n",
    "from openai import OpenAI\n",
    "import os"
   ]
  },
  {
   "cell_type": "code",
   "execution_count": null,
   "id": "4f865cda-b34f-4022-9a22-fdf8d357af7a",
   "metadata": {
    "scrolled": true
   },
   "outputs": [],
   "source": [
    "os.environ"
   ]
  },
  {
   "cell_type": "code",
   "execution_count": 3,
   "id": "f2d18fde-ff17-4ae8-94ee-a7c8ded3f6fb",
   "metadata": {},
   "outputs": [],
   "source": [
    "client = OpenAI(api_key=os.environ.get('OPENAI_API_KEY'))"
   ]
  },
  {
   "cell_type": "code",
   "execution_count": 15,
   "id": "0db5fb90-0d91-47db-a84f-81047afecc72",
   "metadata": {},
   "outputs": [],
   "source": [
    "response = client.chat.completions.create(\n",
    " \tmodel='gpt-4o',\n",
    " \tmessages=[{\"role\": \"user\", \"content\": \"is it too late to join the course?\"}]\n",
    " \t)"
   ]
  },
  {
   "cell_type": "code",
   "execution_count": 16,
   "id": "eb358627-9aa0-4441-a603-bc8b36c20257",
   "metadata": {},
   "outputs": [
    {
     "data": {
      "text/plain": [
       "\"It depends on the specific course and its deadlines. Many courses have different enrollment periods, deadlines, and policies for late registration. Here are a few steps you can take to find out if it’s still possible to join the course:\\n\\n1. **Check the Course Website:** Look for information on enrollment deadlines and late registration policies.\\n\\n2. **Contact the Instructor:** Reach out to the course instructor to express your interest and inquire about the possibility of joining late.\\n\\n3. **Contact Administration:** Reach out to the registrar’s office or the department offering the course to ask about late enrollment options.\\n\\n4. **Review the Syllabus:** If available, review the course syllabus for any details on late entry policies.\\n\\n5. **Online Learning Platforms:** If it's an online course or MOOC, platforms like Coursera, edX, and Udemy often have ongoing enrollment.\\n\\n6. **Waitlists:** Some courses offer waitlists if they are full or if the official enrollment period has ended.\\n\\n7. **Pro-Rated Costs:** If there are fees associated, ask if they can be prorated.\\n\\nChecking these resources should give you a clear answer on whether you can still join the course.\""
      ]
     },
     "execution_count": 16,
     "metadata": {},
     "output_type": "execute_result"
    }
   ],
   "source": [
    "response.choices[0].message.content"
   ]
  }
 ],
 "metadata": {
  "kernelspec": {
   "display_name": "Python 3 (ipykernel)",
   "language": "python",
   "name": "python3"
  },
  "language_info": {
   "codemirror_mode": {
    "name": "ipython",
    "version": 3
   },
   "file_extension": ".py",
   "mimetype": "text/x-python",
   "name": "python",
   "nbconvert_exporter": "python",
   "pygments_lexer": "ipython3",
   "version": "3.10.13"
  }
 },
 "nbformat": 4,
 "nbformat_minor": 5
}
